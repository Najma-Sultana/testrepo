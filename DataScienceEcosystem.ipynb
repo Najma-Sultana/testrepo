{
 "cells": [
  {
   "cell_type": "markdown",
   "id": "10ac54b9-49c6-436c-93ec-891e88dd7ed8",
   "metadata": {},
   "source": [
    "Data Science Tools and Ecosystem"
   ]
  },
  {
   "cell_type": "markdown",
   "id": "76a76a39-5db1-4b73-8629-447c083b4b00",
   "metadata": {},
   "source": [
    "In this notebook, Data Science Tools and Ecosystem are summarized."
   ]
  },
  {
   "cell_type": "markdown",
   "id": "0a7c78b7-4c65-4ff3-a3b0-ce7b8037e360",
   "metadata": {},
   "source": [
    "Some of the popular languages that Data Scientists use are:\n",
    "1.Python\n",
    "2.R\n",
    "3.Scala"
   ]
  },
  {
   "cell_type": "markdown",
   "id": "a5bd5a8a-ee69-42eb-bd6c-e71715896e4d",
   "metadata": {},
   "source": [
    "Some of the commonly used libraries used by Data Scientists include:\n",
    "1.Pandas\n",
    "2.Matplotlib\n",
    "3.Tensorflow\n",
    "4.Numpy"
   ]
  },
  {
   "cell_type": "markdown",
   "id": "891bdb99-161a-4b51-bd26-605eaea53912",
   "metadata": {},
   "source": [
    "|Data Science Tools|\n",
    "|------------------|\n",
    "|Apache Spark|\n",
    "|Tableu|\n",
    "|MATLAB|"
   ]
  },
  {
   "cell_type": "markdown",
   "id": "3f2241c0-7ba8-4b9b-8814-d4862c94cb33",
   "metadata": {},
   "source": [
    "Below are a few examples of evaluating arithmetic expressions in Python.\n",
    "Addition,Subtraction,Multiplications,division"
   ]
  },
  {
   "cell_type": "code",
   "execution_count": 1,
   "id": "c0db4db6-4173-4c4b-b847-c06b48974e45",
   "metadata": {
    "tags": []
   },
   "outputs": [
    {
     "data": {
      "text/plain": [
       "17"
      ]
     },
     "execution_count": 1,
     "metadata": {},
     "output_type": "execute_result"
    }
   ],
   "source": [
    "#This a simple arithmetic expression to mutiply then add integers\n",
    "(3*4)+5"
   ]
  },
  {
   "cell_type": "code",
   "execution_count": 2,
   "id": "91f8d708-03f0-492d-9e29-869d15cad756",
   "metadata": {
    "tags": []
   },
   "outputs": [
    {
     "data": {
      "text/plain": [
       "3.3333333333333335"
      ]
     },
     "execution_count": 2,
     "metadata": {},
     "output_type": "execute_result"
    }
   ],
   "source": [
    "#This will convert 200 minutes to hours by diving by 60\n",
    "200/60"
   ]
  },
  {
   "cell_type": "markdown",
   "id": "af90ad90-dd0c-438d-8d74-ef01c4ab04ae",
   "metadata": {},
   "source": [
    "**Objectives:**\n",
    "* List of popular data science languages are Python, scala, R etc\n",
    "* List of popular data Science tools are Tableu,Apache Spark etc\n",
    "* List of popular libraries in Data Science are Pandas,numpy etc"
   ]
  },
  {
   "cell_type": "markdown",
   "id": "c6f306c4-5547-43c7-ac2b-bd911d4e63d8",
   "metadata": {},
   "source": [
    "Author\n",
    "Najma Sultana"
   ]
  }
 ],
 "metadata": {
  "kernelspec": {
   "display_name": "Python",
   "language": "python",
   "name": "conda-env-python-py"
  },
  "language_info": {
   "codemirror_mode": {
    "name": "ipython",
    "version": 3
   },
   "file_extension": ".py",
   "mimetype": "text/x-python",
   "name": "python",
   "nbconvert_exporter": "python",
   "pygments_lexer": "ipython3",
   "version": "3.7.12"
  }
 },
 "nbformat": 4,
 "nbformat_minor": 5
}
